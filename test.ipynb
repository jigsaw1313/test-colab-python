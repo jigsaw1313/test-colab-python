{
  "nbformat": 4,
  "nbformat_minor": 0,
  "metadata": {
    "colab": {
      "provenance": [],
      "authorship_tag": "ABX9TyPC6hF4JpE2RtfQbPA+vZor",
      "include_colab_link": true
    },
    "kernelspec": {
      "name": "python3",
      "display_name": "Python 3"
    },
    "language_info": {
      "name": "python"
    }
  },
  "cells": [
    {
      "cell_type": "markdown",
      "metadata": {
        "id": "view-in-github",
        "colab_type": "text"
      },
      "source": [
        "<a href=\"https://colab.research.google.com/github/jigsaw1313/test-colab-python/blob/main/test.ipynb\" target=\"_parent\"><img src=\"https://colab.research.google.com/assets/colab-badge.svg\" alt=\"Open In Colab\"/></a>"
      ]
    },
    {
      "cell_type": "code",
      "execution_count": 6,
      "metadata": {
        "id": "o50a57gMlw6w"
      },
      "outputs": [],
      "source": [
        "import pandas as pd\n",
        "import matplotlib.pyplot as plt"
      ]
    },
    {
      "cell_type": "code",
      "source": [
        "print(\"Hello, World\")"
      ],
      "metadata": {
        "id": "s12ur5V6mWPZ"
      },
      "execution_count": null,
      "outputs": []
    },
    {
      "cell_type": "code",
      "source": [
        "print(\"Hello, colab\")"
      ],
      "metadata": {
        "id": "x4yEHNurnz7s"
      },
      "execution_count": null,
      "outputs": []
    },
    {
      "cell_type": "code",
      "source": [
        "pd.__version__"
      ],
      "metadata": {
        "id": "nCX4cpuFoFSr"
      },
      "execution_count": null,
      "outputs": []
    },
    {
      "cell_type": "code",
      "source": [
        "!pip install imageai"
      ],
      "metadata": {
        "id": "mLpjwM_epLII"
      },
      "execution_count": null,
      "outputs": []
    },
    {
      "cell_type": "code",
      "source": [
        "import imageai"
      ],
      "metadata": {
        "id": "lsjGcQzzpewl"
      },
      "execution_count": 11,
      "outputs": []
    },
    {
      "cell_type": "code",
      "source": [
        "#\n"
      ],
      "metadata": {
        "id": "odz8XLghpuiO"
      },
      "execution_count": 12,
      "outputs": []
    },
    {
      "cell_type": "markdown",
      "source": [
        "#TEST"
      ],
      "metadata": {
        "id": "bhTqkVwnqzzj"
      }
    },
    {
      "cell_type": "markdown",
      "source": [
        "**test**  \n",
        "*test*"
      ],
      "metadata": {
        "id": "zkBwADeYq28H"
      }
    },
    {
      "cell_type": "markdown",
      "source": [
        "[COURSE](https://www.udemy.com/course/200-exercises-programming-in-python-from-a-to-z/learn/lecture/19820192#overview)"
      ],
      "metadata": {
        "id": "IhI7bNiNrbrI"
      }
    },
    {
      "cell_type": "code",
      "source": [],
      "metadata": {
        "id": "4zcvCEycqCyr"
      },
      "execution_count": null,
      "outputs": []
    }
  ]
}