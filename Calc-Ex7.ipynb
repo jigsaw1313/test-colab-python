{
  "nbformat": 4,
  "nbformat_minor": 0,
  "metadata": {
    "colab": {
      "provenance": [],
      "authorship_tag": "ABX9TyNhvF0SgUI459jdFsrBXWiG",
      "include_colab_link": true
    },
    "kernelspec": {
      "name": "python3",
      "display_name": "Python 3"
    },
    "language_info": {
      "name": "python"
    }
  },
  "cells": [
    {
      "cell_type": "markdown",
      "metadata": {
        "id": "view-in-github",
        "colab_type": "text"
      },
      "source": [
        "<a href=\"https://colab.research.google.com/github/jigsaw1313/test-colab-python/blob/main/Calc-Ex7.ipynb\" target=\"_parent\"><img src=\"https://colab.research.google.com/assets/colab-badge.svg\" alt=\"Open In Colab\"/></a>"
      ]
    },
    {
      "cell_type": "code",
      "execution_count": 10,
      "metadata": {
        "id": "o50a57gMlw6w",
        "colab": {
          "base_uri": "https://localhost:8080/"
        },
        "outputId": "aa927e97-ba16-4f6d-b9c0-8c2d85926a6a"
      },
      "outputs": [
        {
          "output_type": "stream",
          "name": "stdout",
          "text": [
            "The middle point: (-1.0, 5.0)\n"
          ]
        }
      ],
      "source": [
        "# Define the coordinates of the two endpoints\n",
        "x1, y1 = 2, 4\n",
        "x2, y2 = -4, 6\n",
        "\n",
        "# Calculate the midpoint coordinates using the midpoint formula\n",
        "midpoint_x = (x1 + x2) / 2\n",
        "midpoint_y = (y1 + y2) / 2\n",
        "\n",
        "# Print the midpoint coordinates to the console\n",
        "print(\"The middle point: ({}, {})\".format(midpoint_x, midpoint_y))\n"
      ]
    },
    {
      "cell_type": "code",
      "source": [],
      "metadata": {
        "id": "H0SX79zpum1t"
      },
      "execution_count": null,
      "outputs": []
    }
  ]
}