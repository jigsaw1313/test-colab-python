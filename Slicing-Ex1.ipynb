{
  "nbformat": 4,
  "nbformat_minor": 0,
  "metadata": {
    "colab": {
      "provenance": [],
      "authorship_tag": "ABX9TyOT59gEWy8Inrkf1epmVeT0",
      "include_colab_link": true
    },
    "kernelspec": {
      "name": "python3",
      "display_name": "Python 3"
    },
    "language_info": {
      "name": "python"
    }
  },
  "cells": [
    {
      "cell_type": "markdown",
      "metadata": {
        "id": "view-in-github",
        "colab_type": "text"
      },
      "source": [
        "<a href=\"https://colab.research.google.com/github/jigsaw1313/test-colab-python/blob/main/Slicing-Ex1.ipynb\" target=\"_parent\"><img src=\"https://colab.research.google.com/assets/colab-badge.svg\" alt=\"Open In Colab\"/></a>"
      ]
    },
    {
      "cell_type": "code",
      "execution_count": 13,
      "metadata": {
        "id": "o50a57gMlw6w",
        "colab": {
          "base_uri": "https://localhost:8080/"
        },
        "outputId": "a330602a-f48d-4fde-ba61-48c66a55c338"
      },
      "outputs": [
        {
          "output_type": "stream",
          "name": "stdout",
          "text": [
            "jpg\n"
          ]
        }
      ],
      "source": [
        "import os\n",
        "filename = 'view.jpg'\n",
        "x = os.path.basename(filename)\n",
        "print(x.split('.')[1])\n"
      ]
    },
    {
      "cell_type": "code",
      "source": [],
      "metadata": {
        "id": "H0SX79zpum1t"
      },
      "execution_count": null,
      "outputs": []
    }
  ]
}