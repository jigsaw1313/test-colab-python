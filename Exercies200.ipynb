{
  "nbformat": 4,
  "nbformat_minor": 0,
  "metadata": {
    "colab": {
      "provenance": [],
      "authorship_tag": "ABX9TyOPPsZsaCj5dJ9tk1cqhcje",
      "include_colab_link": true
    },
    "kernelspec": {
      "name": "python3",
      "display_name": "Python 3"
    },
    "language_info": {
      "name": "python"
    }
  },
  "cells": [
    {
      "cell_type": "markdown",
      "metadata": {
        "id": "view-in-github",
        "colab_type": "text"
      },
      "source": [
        "<a href=\"https://colab.research.google.com/github/jigsaw1313/test-colab-python/blob/main/Exercies200.ipynb\" target=\"_parent\"><img src=\"https://colab.research.google.com/assets/colab-badge.svg\" alt=\"Open In Colab\"/></a>"
      ]
    },
    {
      "cell_type": "markdown",
      "source": [
        "#Slicing - Ex2\n"
      ],
      "metadata": {
        "id": "_gN6kE0KIjcL"
      }
    },
    {
      "cell_type": "code",
      "execution_count": 28,
      "metadata": {
        "id": "o50a57gMlw6w",
        "colab": {
          "base_uri": "https://localhost:8080/"
        },
        "outputId": "0c2454b4-631c-4c86-8067-009f8fcc5188"
      },
      "outputs": [
        {
          "output_type": "stream",
          "name": "stdout",
          "text": [
            "PKVPLN\n"
          ]
        }
      ],
      "source": [
        "string = 'PKV-89415-PLN'\n",
        "code = string[:3] + string[-3:]\n",
        "print(code)"
      ]
    },
    {
      "cell_type": "markdown",
      "source": [
        "#Slicing - Ex3"
      ],
      "metadata": {
        "id": "xkdhBKQqIyYf"
      }
    },
    {
      "cell_type": "code",
      "source": [
        "string = '1 0 0 1 0 1'\n",
        "binary = string[::2]\n",
        "print(binary)\n",
        "number = int(binary, 2)\n",
        "print(f'Number found: {number}')"
      ],
      "metadata": {
        "id": "H0SX79zpum1t",
        "colab": {
          "base_uri": "https://localhost:8080/"
        },
        "outputId": "38460e52-1d22-4ec5-8d04-148210e4a8e7"
      },
      "execution_count": 30,
      "outputs": [
        {
          "output_type": "stream",
          "name": "stdout",
          "text": [
            "100101\n",
            "Number found: 37\n"
          ]
        }
      ]
    },
    {
      "cell_type": "markdown",
      "source": [
        "#Slicing Ex4"
      ],
      "metadata": {
        "id": "7G_DppJbJ-h-"
      }
    },
    {
      "cell_type": "code",
      "source": [
        "text = 'Python Course'[::-1]\n",
        "print(text)"
      ],
      "metadata": {
        "colab": {
          "base_uri": "https://localhost:8080/"
        },
        "id": "Q2XvxbNfJFR7",
        "outputId": "cb629444-b64e-4751-f9cc-20203f165dff"
      },
      "execution_count": 32,
      "outputs": [
        {
          "output_type": "stream",
          "name": "stdout",
          "text": [
            "esruoC nohtyP\n"
          ]
        }
      ]
    },
    {
      "cell_type": "markdown",
      "source": [
        "#DataTypes - Ex1"
      ],
      "metadata": {
        "id": "pvHDwfJCKht7"
      }
    },
    {
      "cell_type": "code",
      "source": [
        "var1 = ''\n",
        "var2 = ' '\n",
        "var3 = '\\n'\n",
        "print(type(var1))\n",
        "print(type(var2))\n",
        "print(type(var3))"
      ],
      "metadata": {
        "colab": {
          "base_uri": "https://localhost:8080/"
        },
        "id": "dNv2MN9rKBJL",
        "outputId": "e2643d1b-9d3a-4b07-f5e4-36e74737cefe"
      },
      "execution_count": 33,
      "outputs": [
        {
          "output_type": "stream",
          "name": "stdout",
          "text": [
            "<class 'str'>\n",
            "<class 'str'>\n",
            "<class 'str'>\n"
          ]
        }
      ]
    },
    {
      "cell_type": "markdown",
      "source": [
        "#DataTypes - Ex2"
      ],
      "metadata": {
        "id": "CyqyiIEjKv62"
      }
    },
    {
      "cell_type": "code",
      "source": [
        "var1 = None\n",
        "var2 = False\n",
        "var3 = 'True'\n",
        "print(type(var1))\n",
        "print(type(var2))\n",
        "print(type(var3))"
      ],
      "metadata": {
        "colab": {
          "base_uri": "https://localhost:8080/"
        },
        "id": "4A0BS9I_KmPg",
        "outputId": "99e7e19e-11f8-4f29-bb4c-69642d0c07f0"
      },
      "execution_count": 34,
      "outputs": [
        {
          "output_type": "stream",
          "name": "stdout",
          "text": [
            "<class 'NoneType'>\n",
            "<class 'bool'>\n",
            "<class 'str'>\n"
          ]
        }
      ]
    },
    {
      "cell_type": "markdown",
      "source": [
        "#DataTypes - Ex3"
      ],
      "metadata": {
        "id": "FhTmh-S0K6bs"
      }
    },
    {
      "cell_type": "code",
      "source": [
        "flag = False\n",
        "print(isinstance(flag, bool))"
      ],
      "metadata": {
        "colab": {
          "base_uri": "https://localhost:8080/"
        },
        "id": "AgzlJQ3RKyDz",
        "outputId": "13276bef-a47d-422b-914b-68cd015373a3"
      },
      "execution_count": 38,
      "outputs": [
        {
          "output_type": "stream",
          "name": "stdout",
          "text": [
            "True\n"
          ]
        }
      ]
    },
    {
      "cell_type": "markdown",
      "source": [],
      "metadata": {
        "id": "Mxnmu7OHLbVr"
      }
    },
    {
      "cell_type": "code",
      "source": [],
      "metadata": {
        "id": "lxw5VeNNK8OO"
      },
      "execution_count": null,
      "outputs": []
    }
  ]
}