{
  "nbformat": 4,
  "nbformat_minor": 0,
  "metadata": {
    "colab": {
      "provenance": [],
      "authorship_tag": "ABX9TyMb1wMDQ92EnWJ7/xAS3Rlt",
      "include_colab_link": true
    },
    "kernelspec": {
      "name": "python3",
      "display_name": "Python 3"
    },
    "language_info": {
      "name": "python"
    }
  },
  "cells": [
    {
      "cell_type": "markdown",
      "metadata": {
        "id": "view-in-github",
        "colab_type": "text"
      },
      "source": [
        "<a href=\"https://colab.research.google.com/github/jigsaw1313/test-colab-python/blob/main/Calc_Ex3.ipynb\" target=\"_parent\"><img src=\"https://colab.research.google.com/assets/colab-badge.svg\" alt=\"Open In Colab\"/></a>"
      ]
    },
    {
      "cell_type": "code",
      "execution_count": 5,
      "metadata": {
        "id": "o50a57gMlw6w",
        "colab": {
          "base_uri": "https://localhost:8080/"
        },
        "outputId": "dbb14089-70f8-4bbf-cef8-9e81cc90668b"
      },
      "outputs": [
        {
          "output_type": "stream",
          "name": "stdout",
          "text": [
            "Delta: 16\n"
          ]
        }
      ],
      "source": [
        "# coefficients of the quadratic equation\n",
        "a = 3\n",
        "b = -4\n",
        "c = 1\n",
        "\n",
        "# calculate delta\n",
        "delta = b**2 - 4*a*c\n",
        "\n",
        "# print the result\n",
        "print(\"Delta:\", delta)\n",
        "### Solved by ChatGPT"
      ]
    },
    {
      "cell_type": "code",
      "source": [],
      "metadata": {
        "id": "H0SX79zpum1t"
      },
      "execution_count": null,
      "outputs": []
    }
  ]
}