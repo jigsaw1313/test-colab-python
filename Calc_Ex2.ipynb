{
  "nbformat": 4,
  "nbformat_minor": 0,
  "metadata": {
    "colab": {
      "provenance": [],
      "authorship_tag": "ABX9TyNJ1B6zyIYNsjWgpGAu2YCj",
      "include_colab_link": true
    },
    "kernelspec": {
      "name": "python3",
      "display_name": "Python 3"
    },
    "language_info": {
      "name": "python"
    }
  },
  "cells": [
    {
      "cell_type": "markdown",
      "metadata": {
        "id": "view-in-github",
        "colab_type": "text"
      },
      "source": [
        "<a href=\"https://colab.research.google.com/github/jigsaw1313/test-colab-python/blob/main/Calc_Ex2.ipynb\" target=\"_parent\"><img src=\"https://colab.research.google.com/assets/colab-badge.svg\" alt=\"Open In Colab\"/></a>"
      ]
    },
    {
      "cell_type": "code",
      "execution_count": 4,
      "metadata": {
        "id": "o50a57gMlw6w",
        "colab": {
          "base_uri": "https://localhost:8080/"
        },
        "outputId": "1dd1deff-62f2-4789-afff-54044d415c2b"
      },
      "outputs": [
        {
          "output_type": "stream",
          "name": "stdout",
          "text": [
            "The future value of the investment: 1159.27 USD\n"
          ]
        }
      ],
      "source": [
        "amount = 1000\n",
        "rate = 0.03\n",
        "for i in range(5):\n",
        "    interest = amount * rate\n",
        "    amount += interest\n",
        "print(f\"The future value of the investment: {amount:.2f} USD\")"
      ]
    },
    {
      "cell_type": "code",
      "source": [],
      "metadata": {
        "id": "H0SX79zpum1t"
      },
      "execution_count": null,
      "outputs": []
    }
  ]
}